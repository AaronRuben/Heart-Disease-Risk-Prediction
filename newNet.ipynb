{
 "cells": [
  {
   "cell_type": "code",
   "execution_count": 1,
   "metadata": {
    "pycharm": {
     "is_executing": false
    }
   },
   "outputs": [
    {
     "name": "stderr",
     "output_type": "stream",
     "text": [
      "Using TensorFlow backend.\n"
     ]
    }
   ],
   "source": [
    "# first neural network with keras tutorial\n",
    "\n",
    "from keras.models import Sequential\n",
    "from keras.layers import Dense\n",
    "from sklearn.model_selection import train_test_split\n",
    "import matplotlib.pyplot as plt\n",
    "from sklearn.metrics import accuracy_score\n",
    "import numpy as np\n",
    "from sklearn.experimental import enable_iterative_imputer\n",
    "from sklearn.impute import KNNImputer\n",
    "from keras.optimizers import SGD\n"
   ]
  },
  {
   "cell_type": "code",
   "execution_count": 2,
   "metadata": {
    "pycharm": {
     "is_executing": false,
     "name": "#%%\n"
    }
   },
   "outputs": [
    {
     "name": "stdout",
     "output_type": "stream",
     "text": [
      "(4240, 16)\n",
      "[[  1.  39.   4. ...  80.  77.   0.]\n",
      " [  0.  46.   2. ...  95.  76.   0.]\n",
      " [  1.  48.   1. ...  75.  70.   0.]\n",
      " ...\n",
      " [  0.  52.   2. ...  80. 107.   0.]\n",
      " [  1.  40.   3. ...  67.  72.   0.]\n",
      " [  0.  39.   3. ...  85.  80.   0.]]\n"
     ]
    }
   ],
   "source": [
    "# load the dataset\n",
    "df_empty = np.genfromtxt('framingham.csv', delimiter=\",\")\n",
    "print(df_empty.shape)\n",
    "print(df_empty)"
   ]
  },
  {
   "cell_type": "code",
   "execution_count": 3,
   "metadata": {
    "pycharm": {
     "is_executing": false,
     "name": "#%%\n"
    }
   },
   "outputs": [],
   "source": [
    "imputer = KNNImputer(n_neighbors=3, weights=\"uniform\")\n",
    "df = imputer.fit_transform(df_empty)\n"
   ]
  },
  {
   "cell_type": "code",
   "execution_count": 4,
   "metadata": {
    "pycharm": {
     "is_executing": false,
     "name": "#%%\n"
    }
   },
   "outputs": [],
   "source": [
    "# split into input (X) and output (y) variables\n",
    "X = df[:,0:15]\n",
    "y = df[:,15]\n",
    "\n",
    "X_train, X_test, y_train, y_test = train_test_split(X, y, test_size=0.33, random_state=42)\n",
    "\n"
   ]
  },
  {
   "cell_type": "code",
   "execution_count": 5,
   "metadata": {
    "pycharm": {
     "is_executing": false,
     "name": "#%%\n"
    }
   },
   "outputs": [
    {
     "name": "stdout",
     "output_type": "stream",
     "text": [
      "WARNING:tensorflow:From /Users/dmitryshribak/.conda/envs/PycharmProjects/lib/python3.7/site-packages/keras/backend/tensorflow_backend.py:74: The name tf.get_default_graph is deprecated. Please use tf.compat.v1.get_default_graph instead.\n",
      "\n",
      "WARNING:tensorflow:From /Users/dmitryshribak/.conda/envs/PycharmProjects/lib/python3.7/site-packages/keras/backend/tensorflow_backend.py:517: The name tf.placeholder is deprecated. Please use tf.compat.v1.placeholder instead.\n",
      "\n",
      "WARNING:tensorflow:From /Users/dmitryshribak/.conda/envs/PycharmProjects/lib/python3.7/site-packages/keras/backend/tensorflow_backend.py:4138: The name tf.random_uniform is deprecated. Please use tf.random.uniform instead.\n",
      "\n"
     ]
    }
   ],
   "source": [
    "# define the keras model\n",
    "model = Sequential()\n",
    "model.add(Dense(25, input_dim=15, activation='relu'))\n",
    "model.add(Dense(15, activation='relu'))\n",
    "model.add(Dense(1, activation='sigmoid'))"
   ]
  },
  {
   "cell_type": "code",
   "execution_count": 6,
   "metadata": {
    "pycharm": {
     "is_executing": false,
     "name": "#%%\n"
    }
   },
   "outputs": [
    {
     "name": "stdout",
     "output_type": "stream",
     "text": [
      "WARNING:tensorflow:From /Users/dmitryshribak/.conda/envs/PycharmProjects/lib/python3.7/site-packages/keras/optimizers.py:790: The name tf.train.Optimizer is deprecated. Please use tf.compat.v1.train.Optimizer instead.\n",
      "\n",
      "WARNING:tensorflow:From /Users/dmitryshribak/.conda/envs/PycharmProjects/lib/python3.7/site-packages/keras/backend/tensorflow_backend.py:3376: The name tf.log is deprecated. Please use tf.math.log instead.\n",
      "\n",
      "WARNING:tensorflow:From /Users/dmitryshribak/.conda/envs/PycharmProjects/lib/python3.7/site-packages/tensorflow_core/python/ops/nn_impl.py:183: where (from tensorflow.python.ops.array_ops) is deprecated and will be removed in a future version.\n",
      "Instructions for updating:\n",
      "Use tf.where in 2.0, which has the same broadcast rule as np.where\n"
     ]
    }
   ],
   "source": [
    "# compile the keras model\n",
    "\n",
    "opt = SGD(lr=0.0001)\n",
    "\n",
    "\n",
    "model.compile(loss='binary_crossentropy', optimizer=opt, metrics=['accuracy'])"
   ]
  },
  {
   "cell_type": "code",
   "execution_count": 7,
   "metadata": {
    "pycharm": {
     "is_executing": true,
     "name": "#%%\n"
    }
   },
   "outputs": [
    {
     "name": "stdout",
     "output_type": "stream",
     "text": [
      "WARNING:tensorflow:From /Users/dmitryshribak/.conda/envs/PycharmProjects/lib/python3.7/site-packages/keras/backend/tensorflow_backend.py:986: The name tf.assign_add is deprecated. Please use tf.compat.v1.assign_add instead.\n",
      "\n",
      "WARNING:tensorflow:From /Users/dmitryshribak/.conda/envs/PycharmProjects/lib/python3.7/site-packages/keras/backend/tensorflow_backend.py:973: The name tf.assign is deprecated. Please use tf.compat.v1.assign instead.\n",
      "\n",
      "WARNING:tensorflow:From /Users/dmitryshribak/.conda/envs/PycharmProjects/lib/python3.7/site-packages/keras/backend/tensorflow_backend.py:2741: The name tf.Session is deprecated. Please use tf.compat.v1.Session instead.\n",
      "\n",
      "Train on 1902 samples, validate on 938 samples\n",
      "Epoch 1/150\n",
      "WARNING:tensorflow:From /Users/dmitryshribak/.conda/envs/PycharmProjects/lib/python3.7/site-packages/keras/backend/tensorflow_backend.py:174: The name tf.get_default_session is deprecated. Please use tf.compat.v1.get_default_session instead.\n",
      "\n",
      "WARNING:tensorflow:From /Users/dmitryshribak/.conda/envs/PycharmProjects/lib/python3.7/site-packages/keras/backend/tensorflow_backend.py:181: The name tf.ConfigProto is deprecated. Please use tf.compat.v1.ConfigProto instead.\n",
      "\n",
      "WARNING:tensorflow:From /Users/dmitryshribak/.conda/envs/PycharmProjects/lib/python3.7/site-packages/keras/backend/tensorflow_backend.py:190: The name tf.global_variables is deprecated. Please use tf.compat.v1.global_variables instead.\n",
      "\n",
      "WARNING:tensorflow:From /Users/dmitryshribak/.conda/envs/PycharmProjects/lib/python3.7/site-packages/keras/backend/tensorflow_backend.py:199: The name tf.is_variable_initialized is deprecated. Please use tf.compat.v1.is_variable_initialized instead.\n",
      "\n",
      "WARNING:tensorflow:From /Users/dmitryshribak/.conda/envs/PycharmProjects/lib/python3.7/site-packages/keras/backend/tensorflow_backend.py:206: The name tf.variables_initializer is deprecated. Please use tf.compat.v1.variables_initializer instead.\n",
      "\n",
      "1902/1902 [==============================] - 1s 643us/step - loss: 13.4260 - acc: 0.1556 - val_loss: 1.2265 - val_acc: 0.8284\n",
      "Epoch 2/150\n",
      "1902/1902 [==============================] - 0s 211us/step - loss: 1.0819 - acc: 0.7813 - val_loss: 1.0882 - val_acc: 0.6599\n",
      "Epoch 3/150\n",
      "1902/1902 [==============================] - 0s 181us/step - loss: 0.7277 - acc: 0.7923 - val_loss: 0.5853 - val_acc: 0.8507\n",
      "Epoch 4/150\n",
      "1902/1902 [==============================] - 0s 177us/step - loss: 0.5944 - acc: 0.7965 - val_loss: 0.5295 - val_acc: 0.8465\n",
      "Epoch 5/150\n",
      "1902/1902 [==============================] - 0s 225us/step - loss: 0.6078 - acc: 0.7997 - val_loss: 0.5306 - val_acc: 0.8507\n",
      "Epoch 6/150\n",
      "1902/1902 [==============================] - 0s 232us/step - loss: 0.5845 - acc: 0.8018 - val_loss: 1.1362 - val_acc: 0.4765\n",
      "Epoch 7/150\n",
      "1902/1902 [==============================] - 0s 246us/step - loss: 0.5910 - acc: 0.7934 - val_loss: 0.6639 - val_acc: 0.8561\n",
      "Epoch 8/150\n",
      "1902/1902 [==============================] - 0s 221us/step - loss: 0.5589 - acc: 0.7992 - val_loss: 1.3645 - val_acc: 0.3667\n",
      "Epoch 9/150\n",
      "1902/1902 [==============================] - 0s 181us/step - loss: 0.5551 - acc: 0.7939 - val_loss: 0.4774 - val_acc: 0.8316\n",
      "Epoch 10/150\n",
      "1902/1902 [==============================] - 0s 215us/step - loss: 0.5602 - acc: 0.7986 - val_loss: 0.5015 - val_acc: 0.8571\n",
      "Epoch 11/150\n",
      "1902/1902 [==============================] - 0s 186us/step - loss: 0.5360 - acc: 0.8070 - val_loss: 0.5419 - val_acc: 0.8593\n",
      "Epoch 12/150\n",
      "1902/1902 [==============================] - 0s 180us/step - loss: 0.5069 - acc: 0.8218 - val_loss: 1.0236 - val_acc: 0.4648\n",
      "Epoch 13/150\n",
      "1902/1902 [==============================] - 0s 186us/step - loss: 0.5089 - acc: 0.8123 - val_loss: 0.4955 - val_acc: 0.8571\n",
      "Epoch 14/150\n",
      "1902/1902 [==============================] - 0s 191us/step - loss: 0.5252 - acc: 0.8070 - val_loss: 0.5346 - val_acc: 0.8539\n",
      "Epoch 15/150\n",
      "1902/1902 [==============================] - 0s 239us/step - loss: 0.4991 - acc: 0.8186 - val_loss: 0.6609 - val_acc: 0.8593\n",
      "Epoch 16/150\n",
      "1902/1902 [==============================] - 0s 190us/step - loss: 0.5082 - acc: 0.8155 - val_loss: 0.5420 - val_acc: 0.8550\n",
      "Epoch 17/150\n",
      "1902/1902 [==============================] - 0s 218us/step - loss: 0.4846 - acc: 0.8170 - val_loss: 0.4687 - val_acc: 0.8550\n",
      "Epoch 18/150\n",
      "1902/1902 [==============================] - 0s 193us/step - loss: 0.4947 - acc: 0.8134 - val_loss: 0.7238 - val_acc: 0.6194\n",
      "Epoch 19/150\n",
      "1902/1902 [==============================] - 0s 226us/step - loss: 0.4939 - acc: 0.8160 - val_loss: 0.7210 - val_acc: 0.6215\n",
      "Epoch 20/150\n",
      "1902/1902 [==============================] - 0s 240us/step - loss: 0.4869 - acc: 0.8228 - val_loss: 0.4456 - val_acc: 0.8486\n",
      "Epoch 21/150\n",
      "1902/1902 [==============================] - 0s 218us/step - loss: 0.4801 - acc: 0.8202 - val_loss: 0.5667 - val_acc: 0.8561\n",
      "Epoch 22/150\n",
      "1902/1902 [==============================] - 0s 186us/step - loss: 0.4701 - acc: 0.8349 - val_loss: 0.5508 - val_acc: 0.8561\n",
      "Epoch 23/150\n",
      "1902/1902 [==============================] - 0s 203us/step - loss: 0.4690 - acc: 0.8333 - val_loss: 0.5267 - val_acc: 0.7740\n",
      "Epoch 24/150\n",
      "1902/1902 [==============================] - 0s 186us/step - loss: 0.4695 - acc: 0.8281 - val_loss: 0.5258 - val_acc: 0.7772\n",
      "Epoch 25/150\n",
      "1902/1902 [==============================] - 0s 215us/step - loss: 0.4764 - acc: 0.8212 - val_loss: 0.9803 - val_acc: 0.4179\n",
      "Epoch 26/150\n",
      "1902/1902 [==============================] - 0s 245us/step - loss: 0.4761 - acc: 0.8212 - val_loss: 0.8032 - val_acc: 0.5330\n",
      "Epoch 27/150\n",
      "1902/1902 [==============================] - 0s 225us/step - loss: 0.4675 - acc: 0.8233 - val_loss: 0.4402 - val_acc: 0.8518\n",
      "Epoch 28/150\n",
      "1902/1902 [==============================] - 0s 239us/step - loss: 0.4647 - acc: 0.8207 - val_loss: 0.4860 - val_acc: 0.8550\n",
      "Epoch 29/150\n",
      "1902/1902 [==============================] - 0s 187us/step - loss: 0.4473 - acc: 0.8265 - val_loss: 0.7176 - val_acc: 0.8571\n",
      "Epoch 30/150\n",
      "1902/1902 [==============================] - 0s 239us/step - loss: 0.4606 - acc: 0.8281 - val_loss: 0.4300 - val_acc: 0.8507\n",
      "Epoch 31/150\n",
      "1902/1902 [==============================] - 0s 218us/step - loss: 0.4702 - acc: 0.8191 - val_loss: 0.4952 - val_acc: 0.8539\n",
      "Epoch 32/150\n",
      "1902/1902 [==============================] - 0s 229us/step - loss: 0.4621 - acc: 0.8212 - val_loss: 0.4631 - val_acc: 0.8529\n",
      "Epoch 33/150\n",
      "1902/1902 [==============================] - 0s 229us/step - loss: 0.4558 - acc: 0.8281 - val_loss: 0.4475 - val_acc: 0.8412\n",
      "Epoch 34/150\n",
      "1902/1902 [==============================] - 0s 252us/step - loss: 0.4592 - acc: 0.8244 - val_loss: 0.4392 - val_acc: 0.8550\n",
      "Epoch 35/150\n",
      "1902/1902 [==============================] - 0s 225us/step - loss: 0.4539 - acc: 0.8312 - val_loss: 0.8983 - val_acc: 0.4403\n",
      "Epoch 36/150\n",
      "1902/1902 [==============================] - 0s 190us/step - loss: 0.4601 - acc: 0.8239 - val_loss: 0.4492 - val_acc: 0.8550\n",
      "Epoch 37/150\n",
      "1902/1902 [==============================] - 0s 196us/step - loss: 0.4623 - acc: 0.8323 - val_loss: 0.4396 - val_acc: 0.8550\n",
      "Epoch 38/150\n",
      "1902/1902 [==============================] - 0s 192us/step - loss: 0.4522 - acc: 0.8417 - val_loss: 0.4317 - val_acc: 0.8529\n",
      "Epoch 39/150\n",
      "1902/1902 [==============================] - 0s 197us/step - loss: 0.4552 - acc: 0.8297 - val_loss: 0.4832 - val_acc: 0.8518\n",
      "Epoch 40/150\n",
      "1902/1902 [==============================] - 0s 186us/step - loss: 0.4488 - acc: 0.8402 - val_loss: 0.4749 - val_acc: 0.8529\n",
      "Epoch 41/150\n",
      "1902/1902 [==============================] - 0s 206us/step - loss: 0.4527 - acc: 0.8375 - val_loss: 0.5485 - val_acc: 0.7612\n",
      "Epoch 42/150\n",
      "1902/1902 [==============================] - 0s 211us/step - loss: 0.4541 - acc: 0.8291 - val_loss: 1.2037 - val_acc: 0.2463\n",
      "Epoch 43/150\n",
      "1902/1902 [==============================] - 0s 205us/step - loss: 0.4526 - acc: 0.8344 - val_loss: 0.4786 - val_acc: 0.8550\n",
      "Epoch 44/150\n",
      "1902/1902 [==============================] - 0s 196us/step - loss: 0.4541 - acc: 0.8270 - val_loss: 0.5411 - val_acc: 0.8529\n",
      "Epoch 45/150\n",
      "1902/1902 [==============================] - 0s 217us/step - loss: 0.4486 - acc: 0.8365 - val_loss: 0.4335 - val_acc: 0.8529\n",
      "Epoch 46/150\n"
     ]
    },
    {
     "name": "stdout",
     "output_type": "stream",
     "text": [
      "1902/1902 [==============================] - 0s 175us/step - loss: 0.4359 - acc: 0.8402 - val_loss: 0.4870 - val_acc: 0.8529\n",
      "Epoch 47/150\n",
      "1902/1902 [==============================] - 0s 192us/step - loss: 0.4627 - acc: 0.8270 - val_loss: 0.4514 - val_acc: 0.8561\n",
      "Epoch 48/150\n",
      "1902/1902 [==============================] - 0s 199us/step - loss: 0.4442 - acc: 0.8365 - val_loss: 0.5381 - val_acc: 0.8550\n",
      "Epoch 49/150\n",
      "1902/1902 [==============================] - 0s 188us/step - loss: 0.4454 - acc: 0.8412 - val_loss: 0.5487 - val_acc: 0.8539\n",
      "Epoch 50/150\n",
      "1902/1902 [==============================] - 0s 178us/step - loss: 0.4522 - acc: 0.8349 - val_loss: 0.9858 - val_acc: 0.3689\n",
      "Epoch 51/150\n",
      "1902/1902 [==============================] - 0s 175us/step - loss: 0.4575 - acc: 0.8302 - val_loss: 0.5416 - val_acc: 0.8550\n",
      "Epoch 52/150\n",
      "1902/1902 [==============================] - 0s 192us/step - loss: 0.4591 - acc: 0.8270 - val_loss: 0.4577 - val_acc: 0.8539\n",
      "Epoch 53/150\n",
      "1902/1902 [==============================] - 0s 221us/step - loss: 0.4514 - acc: 0.8318 - val_loss: 0.5607 - val_acc: 0.7591\n",
      "Epoch 54/150\n",
      "1902/1902 [==============================] - 0s 188us/step - loss: 0.4478 - acc: 0.8349 - val_loss: 0.8607 - val_acc: 0.4446\n",
      "Epoch 55/150\n",
      "1902/1902 [==============================] - 0s 203us/step - loss: 0.4483 - acc: 0.8328 - val_loss: 0.4358 - val_acc: 0.8518\n",
      "Epoch 56/150\n",
      "1902/1902 [==============================] - 0s 239us/step - loss: 0.4517 - acc: 0.8386 - val_loss: 0.5399 - val_acc: 0.7687\n",
      "Epoch 57/150\n",
      "1902/1902 [==============================] - 0s 177us/step - loss: 0.4425 - acc: 0.8344 - val_loss: 0.4979 - val_acc: 0.8529\n",
      "Epoch 58/150\n",
      "1902/1902 [==============================] - 0s 225us/step - loss: 0.4484 - acc: 0.8323 - val_loss: 0.5265 - val_acc: 0.7889\n",
      "Epoch 59/150\n",
      "1902/1902 [==============================] - 0s 192us/step - loss: 0.4465 - acc: 0.8323 - val_loss: 0.4312 - val_acc: 0.8529\n",
      "Epoch 60/150\n",
      "1902/1902 [==============================] - 0s 172us/step - loss: 0.4464 - acc: 0.8396 - val_loss: 0.5307 - val_acc: 0.8539\n",
      "Epoch 61/150\n",
      "1902/1902 [==============================] - 0s 197us/step - loss: 0.4393 - acc: 0.8333 - val_loss: 0.7464 - val_acc: 0.5778\n",
      "Epoch 62/150\n",
      "1902/1902 [==============================] - 0s 189us/step - loss: 0.4524 - acc: 0.8360 - val_loss: 2.9884 - val_acc: 0.1471\n",
      "Epoch 63/150\n",
      "1902/1902 [==============================] - 0s 201us/step - loss: 0.4588 - acc: 0.8291 - val_loss: 0.6858 - val_acc: 0.6322\n",
      "Epoch 64/150\n",
      "1902/1902 [==============================] - 0s 185us/step - loss: 0.4459 - acc: 0.8333 - val_loss: 0.4352 - val_acc: 0.8550\n",
      "Epoch 65/150\n",
      "1902/1902 [==============================] - 0s 166us/step - loss: 0.4452 - acc: 0.8365 - val_loss: 0.4273 - val_acc: 0.8507\n",
      "Epoch 66/150\n",
      "1902/1902 [==============================] - 0s 212us/step - loss: 0.4336 - acc: 0.8391 - val_loss: 0.5065 - val_acc: 0.8529\n",
      "Epoch 67/150\n",
      "1902/1902 [==============================] - 0s 199us/step - loss: 0.4295 - acc: 0.8396 - val_loss: 0.4288 - val_acc: 0.8518\n",
      "Epoch 68/150\n",
      "1902/1902 [==============================] - 0s 195us/step - loss: 0.4402 - acc: 0.8270 - val_loss: 0.4876 - val_acc: 0.8529\n",
      "Epoch 69/150\n",
      "1902/1902 [==============================] - 0s 201us/step - loss: 0.4405 - acc: 0.8360 - val_loss: 0.4304 - val_acc: 0.8507\n",
      "Epoch 70/150\n",
      "1902/1902 [==============================] - 0s 221us/step - loss: 0.4403 - acc: 0.8438 - val_loss: 0.4324 - val_acc: 0.8550\n",
      "Epoch 71/150\n",
      "1902/1902 [==============================] - 0s 184us/step - loss: 0.4463 - acc: 0.8360 - val_loss: 0.4375 - val_acc: 0.8550\n",
      "Epoch 72/150\n",
      "1902/1902 [==============================] - 0s 188us/step - loss: 0.4409 - acc: 0.8349 - val_loss: 0.5866 - val_acc: 0.7484\n",
      "Epoch 73/150\n",
      "1902/1902 [==============================] - 0s 180us/step - loss: 0.4359 - acc: 0.8365 - val_loss: 0.4669 - val_acc: 0.8529\n",
      "Epoch 74/150\n",
      "1902/1902 [==============================] - 0s 211us/step - loss: 0.4437 - acc: 0.8318 - val_loss: 0.8023 - val_acc: 0.5000\n",
      "Epoch 75/150\n",
      "1902/1902 [==============================] - 0s 198us/step - loss: 0.4354 - acc: 0.8302 - val_loss: 0.4766 - val_acc: 0.8550\n",
      "Epoch 76/150\n",
      "1902/1902 [==============================] - 0s 225us/step - loss: 0.4366 - acc: 0.8339 - val_loss: 0.4625 - val_acc: 0.8518\n",
      "Epoch 77/150\n",
      "1902/1902 [==============================] - 0s 196us/step - loss: 0.4372 - acc: 0.8381 - val_loss: 2.0273 - val_acc: 0.1503\n",
      "Epoch 78/150\n",
      "1902/1902 [==============================] - 0s 209us/step - loss: 0.4499 - acc: 0.8302 - val_loss: 0.4259 - val_acc: 0.8561\n",
      "Epoch 79/150\n",
      "1902/1902 [==============================] - 0s 194us/step - loss: 0.4426 - acc: 0.8365 - val_loss: 0.4344 - val_acc: 0.8518\n",
      "Epoch 80/150\n",
      "1902/1902 [==============================] - 0s 174us/step - loss: 0.4313 - acc: 0.8396 - val_loss: 0.4458 - val_acc: 0.8550\n",
      "Epoch 81/150\n",
      "1902/1902 [==============================] - 0s 178us/step - loss: 0.4338 - acc: 0.8391 - val_loss: 0.4256 - val_acc: 0.8550\n",
      "Epoch 82/150\n",
      "1902/1902 [==============================] - 0s 179us/step - loss: 0.4352 - acc: 0.8433 - val_loss: 0.4919 - val_acc: 0.8529\n",
      "Epoch 83/150\n",
      "1902/1902 [==============================] - 0s 196us/step - loss: 0.4383 - acc: 0.8381 - val_loss: 0.4583 - val_acc: 0.8518\n",
      "Epoch 84/150\n",
      "1902/1902 [==============================] - 0s 179us/step - loss: 0.4328 - acc: 0.8407 - val_loss: 0.4309 - val_acc: 0.8529\n",
      "Epoch 85/150\n",
      "1902/1902 [==============================] - 0s 196us/step - loss: 0.4395 - acc: 0.8360 - val_loss: 0.4385 - val_acc: 0.8486\n",
      "Epoch 86/150\n",
      "1902/1902 [==============================] - 0s 174us/step - loss: 0.4327 - acc: 0.8381 - val_loss: 0.4239 - val_acc: 0.8518\n",
      "Epoch 87/150\n",
      "1902/1902 [==============================] - 0s 218us/step - loss: 0.4417 - acc: 0.8349 - val_loss: 0.4579 - val_acc: 0.8529\n",
      "Epoch 88/150\n",
      "1902/1902 [==============================] - 0s 237us/step - loss: 0.4382 - acc: 0.8381 - val_loss: 0.5209 - val_acc: 0.8028\n",
      "Epoch 89/150\n",
      "1902/1902 [==============================] - 0s 242us/step - loss: 0.4450 - acc: 0.8307 - val_loss: 0.4653 - val_acc: 0.8539\n",
      "Epoch 90/150\n",
      "1902/1902 [==============================] - 0s 233us/step - loss: 0.4281 - acc: 0.8354 - val_loss: 0.5067 - val_acc: 0.8529\n",
      "Epoch 91/150\n",
      "1902/1902 [==============================] - 0s 225us/step - loss: 0.4344 - acc: 0.8370 - val_loss: 0.6547 - val_acc: 0.6706\n",
      "Epoch 92/150\n",
      "1902/1902 [==============================] - 0s 225us/step - loss: 0.4323 - acc: 0.8386 - val_loss: 0.5810 - val_acc: 0.8561\n",
      "Epoch 93/150\n",
      "1902/1902 [==============================] - 0s 181us/step - loss: 0.4287 - acc: 0.8391 - val_loss: 0.4476 - val_acc: 0.8561\n",
      "Epoch 94/150\n",
      "1902/1902 [==============================] - 0s 201us/step - loss: 0.4360 - acc: 0.8365 - val_loss: 0.4215 - val_acc: 0.8539\n",
      "Epoch 95/150\n",
      "1902/1902 [==============================] - 0s 187us/step - loss: 0.4380 - acc: 0.8365 - val_loss: 0.4789 - val_acc: 0.8550\n",
      "Epoch 96/150\n",
      "1902/1902 [==============================] - 0s 176us/step - loss: 0.4331 - acc: 0.8375 - val_loss: 0.5463 - val_acc: 0.7804\n",
      "Epoch 97/150\n",
      "1902/1902 [==============================] - 0s 178us/step - loss: 0.4296 - acc: 0.8402 - val_loss: 0.5075 - val_acc: 0.8550\n",
      "Epoch 98/150\n",
      "1902/1902 [==============================] - 0s 204us/step - loss: 0.4340 - acc: 0.8407 - val_loss: 0.5438 - val_acc: 0.7814\n",
      "Epoch 99/150\n",
      "1902/1902 [==============================] - 0s 184us/step - loss: 0.4313 - acc: 0.8370 - val_loss: 0.4214 - val_acc: 0.8518\n",
      "Epoch 100/150\n",
      "1902/1902 [==============================] - 0s 197us/step - loss: 0.4260 - acc: 0.8386 - val_loss: 0.5886 - val_acc: 0.7441\n",
      "Epoch 101/150\n",
      "1902/1902 [==============================] - 0s 184us/step - loss: 0.4270 - acc: 0.8428 - val_loss: 0.4576 - val_acc: 0.8326\n",
      "Epoch 102/150\n",
      "1902/1902 [==============================] - 0s 180us/step - loss: 0.4337 - acc: 0.8428 - val_loss: 0.4424 - val_acc: 0.8529\n",
      "Epoch 103/150\n",
      "1902/1902 [==============================] - 0s 212us/step - loss: 0.4253 - acc: 0.8375 - val_loss: 0.4372 - val_acc: 0.8518\n",
      "Epoch 104/150\n",
      "1902/1902 [==============================] - 0s 178us/step - loss: 0.4346 - acc: 0.8428 - val_loss: 0.5913 - val_acc: 0.7431\n",
      "Epoch 105/150\n"
     ]
    },
    {
     "name": "stdout",
     "output_type": "stream",
     "text": [
      "1902/1902 [==============================] - 0s 180us/step - loss: 0.4345 - acc: 0.8328 - val_loss: 0.5735 - val_acc: 0.7601\n",
      "Epoch 106/150\n",
      "1902/1902 [==============================] - 0s 204us/step - loss: 0.4299 - acc: 0.8375 - val_loss: 0.4279 - val_acc: 0.8539\n",
      "Epoch 107/150\n",
      "1902/1902 [==============================] - 0s 171us/step - loss: 0.4351 - acc: 0.8381 - val_loss: 0.4235 - val_acc: 0.8550\n",
      "Epoch 108/150\n",
      "1902/1902 [==============================] - 0s 192us/step - loss: 0.4257 - acc: 0.8475 - val_loss: 0.4307 - val_acc: 0.8529\n",
      "Epoch 109/150\n",
      "1902/1902 [==============================] - 0s 198us/step - loss: 0.4306 - acc: 0.8381 - val_loss: 0.4383 - val_acc: 0.8529\n",
      "Epoch 110/150\n",
      "1902/1902 [==============================] - 0s 186us/step - loss: 0.4286 - acc: 0.8381 - val_loss: 0.4574 - val_acc: 0.8529\n",
      "Epoch 111/150\n",
      "1902/1902 [==============================] - 0s 202us/step - loss: 0.4312 - acc: 0.8365 - val_loss: 0.7415 - val_acc: 0.5586\n",
      "Epoch 112/150\n",
      "1902/1902 [==============================] - 0s 200us/step - loss: 0.4342 - acc: 0.8365 - val_loss: 0.4741 - val_acc: 0.8390\n",
      "Epoch 113/150\n",
      "1902/1902 [==============================] - 0s 193us/step - loss: 0.4278 - acc: 0.8375 - val_loss: 0.4407 - val_acc: 0.8529\n",
      "Epoch 114/150\n",
      "1902/1902 [==============================] - 0s 200us/step - loss: 0.4220 - acc: 0.8402 - val_loss: 0.4188 - val_acc: 0.8539\n",
      "Epoch 115/150\n",
      "1902/1902 [==============================] - 0s 193us/step - loss: 0.4242 - acc: 0.8423 - val_loss: 0.4326 - val_acc: 0.8529\n",
      "Epoch 116/150\n",
      "1902/1902 [==============================] - 0s 213us/step - loss: 0.4327 - acc: 0.8428 - val_loss: 0.4278 - val_acc: 0.8539\n",
      "Epoch 117/150\n",
      "1902/1902 [==============================] - 0s 196us/step - loss: 0.4297 - acc: 0.8412 - val_loss: 0.4410 - val_acc: 0.8550\n",
      "Epoch 118/150\n",
      "1902/1902 [==============================] - 0s 209us/step - loss: 0.4324 - acc: 0.8386 - val_loss: 0.4304 - val_acc: 0.8561\n",
      "Epoch 119/150\n",
      "1902/1902 [==============================] - 0s 230us/step - loss: 0.4251 - acc: 0.8438 - val_loss: 0.8788 - val_acc: 0.4126\n",
      "Epoch 120/150\n",
      "1902/1902 [==============================] - 0s 229us/step - loss: 0.4278 - acc: 0.8470 - val_loss: 0.4236 - val_acc: 0.8539\n",
      "Epoch 121/150\n",
      "1902/1902 [==============================] - 0s 218us/step - loss: 0.4319 - acc: 0.8433 - val_loss: 0.4291 - val_acc: 0.8550\n",
      "Epoch 122/150\n",
      "1902/1902 [==============================] - 0s 198us/step - loss: 0.4250 - acc: 0.8412 - val_loss: 0.4816 - val_acc: 0.8539\n",
      "Epoch 123/150\n",
      "1902/1902 [==============================] - 0s 200us/step - loss: 0.4265 - acc: 0.8412 - val_loss: 1.4839 - val_acc: 0.1684\n",
      "Epoch 124/150\n",
      "1902/1902 [==============================] - 0s 209us/step - loss: 0.4290 - acc: 0.8433 - val_loss: 0.6528 - val_acc: 0.6695\n",
      "Epoch 125/150\n",
      "1902/1902 [==============================] - 0s 194us/step - loss: 0.4205 - acc: 0.8460 - val_loss: 0.4319 - val_acc: 0.8539\n",
      "Epoch 126/150\n",
      "1902/1902 [==============================] - 0s 200us/step - loss: 0.4289 - acc: 0.8381 - val_loss: 1.1232 - val_acc: 0.2335\n",
      "Epoch 127/150\n",
      "1902/1902 [==============================] - 0s 201us/step - loss: 0.4248 - acc: 0.8360 - val_loss: 0.4482 - val_acc: 0.8539\n",
      "Epoch 128/150\n",
      "1902/1902 [==============================] - 0s 213us/step - loss: 0.4229 - acc: 0.8444 - val_loss: 0.4430 - val_acc: 0.8529\n",
      "Epoch 129/150\n",
      "1902/1902 [==============================] - 0s 234us/step - loss: 0.4254 - acc: 0.8438 - val_loss: 0.5458 - val_acc: 0.8561\n",
      "Epoch 130/150\n",
      "1902/1902 [==============================] - 0s 232us/step - loss: 0.4299 - acc: 0.8375 - val_loss: 0.4912 - val_acc: 0.8241\n",
      "Epoch 131/150\n",
      "1902/1902 [==============================] - 0s 233us/step - loss: 0.4262 - acc: 0.8375 - val_loss: 0.4463 - val_acc: 0.8412\n",
      "Epoch 132/150\n",
      "1902/1902 [==============================] - 0s 240us/step - loss: 0.4284 - acc: 0.8428 - val_loss: 0.4563 - val_acc: 0.8539\n",
      "Epoch 133/150\n",
      "1902/1902 [==============================] - 0s 225us/step - loss: 0.4231 - acc: 0.8412 - val_loss: 0.4267 - val_acc: 0.8539\n",
      "Epoch 134/150\n",
      "1902/1902 [==============================] - 0s 207us/step - loss: 0.4282 - acc: 0.8449 - val_loss: 0.5262 - val_acc: 0.7889\n",
      "Epoch 135/150\n",
      "1902/1902 [==============================] - 0s 213us/step - loss: 0.4322 - acc: 0.8407 - val_loss: 0.4155 - val_acc: 0.8550\n",
      "Epoch 136/150\n",
      "1902/1902 [==============================] - 0s 216us/step - loss: 0.4256 - acc: 0.8391 - val_loss: 0.4177 - val_acc: 0.8561\n",
      "Epoch 137/150\n",
      "1902/1902 [==============================] - 0s 222us/step - loss: 0.4241 - acc: 0.8428 - val_loss: 0.4186 - val_acc: 0.8571\n",
      "Epoch 138/150\n",
      "1902/1902 [==============================] - 0s 236us/step - loss: 0.4226 - acc: 0.8444 - val_loss: 0.5422 - val_acc: 0.7793\n",
      "Epoch 139/150\n",
      "1902/1902 [==============================] - 0s 239us/step - loss: 0.4196 - acc: 0.8386 - val_loss: 0.4236 - val_acc: 0.8561\n",
      "Epoch 140/150\n",
      "1902/1902 [==============================] - 0s 246us/step - loss: 0.4214 - acc: 0.8407 - val_loss: 0.4280 - val_acc: 0.8539\n",
      "Epoch 141/150\n",
      "1902/1902 [==============================] - 0s 254us/step - loss: 0.4269 - acc: 0.8444 - val_loss: 0.4222 - val_acc: 0.8529\n",
      "Epoch 142/150\n",
      "1902/1902 [==============================] - 1s 276us/step - loss: 0.4220 - acc: 0.8454 - val_loss: 0.5596 - val_acc: 0.7644\n",
      "Epoch 143/150\n",
      "1902/1902 [==============================] - 1s 271us/step - loss: 0.4246 - acc: 0.8407 - val_loss: 0.6733 - val_acc: 0.6311\n",
      "Epoch 144/150\n",
      "1902/1902 [==============================] - 1s 271us/step - loss: 0.4269 - acc: 0.8423 - val_loss: 0.4477 - val_acc: 0.8380\n",
      "Epoch 145/150\n",
      "1902/1902 [==============================] - 1s 280us/step - loss: 0.4187 - acc: 0.8433 - val_loss: 0.4342 - val_acc: 0.8529\n",
      "Epoch 146/150\n",
      "1902/1902 [==============================] - 1s 272us/step - loss: 0.4232 - acc: 0.8333 - val_loss: 0.4424 - val_acc: 0.8529\n",
      "Epoch 147/150\n",
      "1902/1902 [==============================] - 1s 276us/step - loss: 0.4242 - acc: 0.8391 - val_loss: 0.4432 - val_acc: 0.8390\n",
      "Epoch 148/150\n",
      "1902/1902 [==============================] - 1s 285us/step - loss: 0.4187 - acc: 0.8412 - val_loss: 0.4601 - val_acc: 0.8380\n",
      "Epoch 149/150\n",
      "1902/1902 [==============================] - 1s 296us/step - loss: 0.4258 - acc: 0.8423 - val_loss: 0.4209 - val_acc: 0.8561\n",
      "Epoch 150/150\n",
      "1902/1902 [==============================] - 1s 306us/step - loss: 0.4218 - acc: 0.8444 - val_loss: 0.4157 - val_acc: 0.8550\n"
     ]
    }
   ],
   "source": [
    "# Fit the model\n",
    "history = model.fit(X_train, y_train, validation_split=0.33, epochs=150, batch_size=10)"
   ]
  },
  {
   "cell_type": "code",
   "execution_count": 8,
   "metadata": {
    "pycharm": {
     "is_executing": false,
     "name": "#%%\n"
    }
   },
   "outputs": [
    {
     "name": "stdout",
     "output_type": "stream",
     "text": [
      "dict_keys(['val_loss', 'val_acc', 'loss', 'acc'])\n"
     ]
    }
   ],
   "source": [
    "history_dict = history.history\n",
    "print(history_dict.keys())"
   ]
  },
  {
   "cell_type": "code",
   "execution_count": 9,
   "metadata": {
    "pycharm": {
     "is_executing": false,
     "name": "#%%\n"
    }
   },
   "outputs": [
    {
     "data": {
      "image/png": "[encoded data removed]",
      "text/plain": [
       "<Figure size 432x288 with 1 Axes>"
      ]
     },
     "metadata": {
      "needs_background": "light"
     },
     "output_type": "display_data"
    },
    {
     "data": {
      "image/png": "[encoded data removed]",
      "text/plain": [
       "<Figure size 432x288 with 1 Axes>"
      ]
     },
     "metadata": {
      "needs_background": "light"
     },
     "output_type": "display_data"
    }
   ],
   "source": [
    "# summarize history for accuracy\n",
    "plt.plot(history.history['acc'])\n",
    "plt.plot(history.history['val_acc'])\n",
    "plt.title('model accuracy')\n",
    "plt.ylabel('accuracy')\n",
    "plt.xlabel('epoch')\n",
    "plt.legend(['train', 'test'], loc='upper left')\n",
    "plt.show()\n",
    "# summarize history for loss\n",
    "plt.plot(history.history['loss'])\n",
    "plt.plot(history.history['val_loss'])\n",
    "plt.title('model loss')\n",
    "plt.ylabel('loss')\n",
    "plt.xlabel('epoch')\n",
    "plt.legend(['train', 'test'], loc='upper left')\n",
    "plt.show()\n"
   ]
  },
  {
   "cell_type": "code",
   "execution_count": 10,
   "metadata": {
    "pycharm": {
     "is_executing": false,
     "name": "#%%\n"
    }
   },
   "outputs": [
    {
     "name": "stdout",
     "output_type": "stream",
     "text": [
      "0.8464285714285714\n"
     ]
    }
   ],
   "source": [
    "y_pred = model.predict_classes(X_test)\n",
    "print(accuracy_score(y_test, y_pred))\n"
   ]
  },
  {
   "cell_type": "code",
   "execution_count": null,
   "outputs": [],
   "source": [
    "#roc curve add this to the NN"
   ],
   "metadata": {
    "collapsed": false,
    "pycharm": {
     "name": "#%%\n"
    }
   }
  },
  {
   "cell_type": "code",
   "execution_count": null,
   "metadata": {},
   "outputs": [],
   "source": [
    "#roc curve add this to the NN"
   ]
  }
 ],
 "metadata": {
  "kernelspec": {
   "display_name": "Python 3",
   "language": "python",
   "name": "python3"
  },
  "language_info": {
   "codemirror_mode": {
    "name": "ipython",
    "version": 3
   },
   "file_extension": ".py",
   "mimetype": "text/x-python",
   "name": "python",
   "nbconvert_exporter": "python",
   "pygments_lexer": "ipython3",
   "version": "3.7.5"
  },
  "pycharm": {
   "stem_cell": {
    "cell_type": "raw",
    "source": [],
    "metadata": {
     "collapsed": false
    }
   }
  }
 },
 "nbformat": 4,
 "nbformat_minor": 1
}